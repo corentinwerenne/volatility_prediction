{
 "cells": [
  {
   "cell_type": "code",
   "execution_count": 1,
   "id": "1f39aa2b-f727-4b0e-b4e9-b859a4e2a607",
   "metadata": {},
   "outputs": [],
   "source": [
    "import pandas as pd\n",
    "import yfinance as yf\n",
    "import numpy as np\n",
    "import matplotlib.pyplot as plt\n",
    "\n",
    "from sklearn.metrics import mean_squared_error as mse\n",
    "from arch import arch_model\n",
    "\n",
    "#from data_handler import get_sp500_ticker_list\n",
    "from data_handler import get_adj_close\n",
    "#from data_handler import sp500_closes_to_csv"
   ]
  },
  {
   "cell_type": "code",
   "execution_count": 2,
   "id": "37ce1694-ad57-44df-8d25-8e55dd2a09f6",
   "metadata": {},
   "outputs": [
    {
     "name": "stdout",
     "output_type": "stream",
     "text": [
      "[*********************100%***********************]  1 of 1 completed\n"
     ]
    }
   ],
   "source": [
    "# Getting the data\n",
    "start='2018-01-01'\n",
    "end='2020-12-31'\n",
    "interval='1d'\n",
    "ticker_list = 'AAPL'\n",
    "\n",
    "df = get_adj_close(ticker_list, start, end, interval)"
   ]
  },
  {
   "cell_type": "code",
   "execution_count": 3,
   "id": "e0f602e4-24d0-4b77-aeb9-c6575cf8eec7",
   "metadata": {},
   "outputs": [],
   "source": [
    "# Computing returns\n",
    "ret = 100 * df.pct_change()\n",
    "ret.dropna(inplace=True)"
   ]
  },
  {
   "cell_type": "code",
   "execution_count": 4,
   "id": "50bada9d-7573-483b-b6f8-597c501da4b9",
   "metadata": {},
   "outputs": [],
   "source": [
    "# Computing realized volatility\n",
    "realized_vol = ret.rolling(5).std()\n",
    "realized_vol.dropna(inplace=True)"
   ]
  },
  {
   "cell_type": "code",
   "execution_count": 5,
   "id": "60cc28d8-ae27-413b-9471-10eb10f24fc0",
   "metadata": {},
   "outputs": [],
   "source": [
    "n = 252\n",
    "split_date = ret.iloc[-n:].index"
   ]
  },
  {
   "cell_type": "code",
   "execution_count": 6,
   "id": "02dc9cc8-b3b7-4c05-bce4-59f39873db11",
   "metadata": {},
   "outputs": [
    {
     "name": "stdout",
     "output_type": "stream",
     "text": [
      "(1, 1)\n"
     ]
    }
   ],
   "source": [
    "aic_gjr_garch = []\n",
    "\n",
    "for p in range(1, 8): \n",
    "    for q in range(1, 8):\n",
    "        gjr_garch = arch_model(ret, mean='zero', vol='GARCH', p=p, o=1, q=q)\\\n",
    "             .fit(disp='off') \n",
    "        aic_gjr_garch.append(gjr_garch.aic) \n",
    "    \n",
    "        if gjr_garch.aic == np.min(aic_gjr_garch): \n",
    "             best_param = p, q # Finding the minimum AIC score\n",
    "print(best_param)"
   ]
  },
  {
   "cell_type": "code",
   "execution_count": 7,
   "id": "7b5cf3ae-9de1-45f6-90a7-e1cd4515f00f",
   "metadata": {},
   "outputs": [],
   "source": [
    "gjr_garch = arch_model(ret, mean='zero', vol='ARCH', p=best_param[0], o=1,\n",
    "                       q=best_param[1]).fit(disp='off')"
   ]
  },
  {
   "cell_type": "code",
   "execution_count": 8,
   "id": "caafe366-4784-4740-be2a-db8506d1ad64",
   "metadata": {},
   "outputs": [
    {
     "data": {
      "text/html": [
       "<table class=\"simpletable\">\n",
       "<caption>Zero Mean - ARCH Model Results</caption>\n",
       "<tr>\n",
       "  <th>Dep. Variable:</th>      <td>Adj Close</td>     <th>  R-squared:         </th>  <td>   0.000</td> \n",
       "</tr>\n",
       "<tr>\n",
       "  <th>Mean Model:</th>         <td>Zero Mean</td>     <th>  Adj. R-squared:    </th>  <td>   0.001</td> \n",
       "</tr>\n",
       "<tr>\n",
       "  <th>Vol Model:</th>            <td>ARCH</td>        <th>  Log-Likelihood:    </th> <td>  -1638.24</td>\n",
       "</tr>\n",
       "<tr>\n",
       "  <th>Distribution:</th>        <td>Normal</td>       <th>  AIC:               </th> <td>   3280.48</td>\n",
       "</tr>\n",
       "<tr>\n",
       "  <th>Method:</th>        <td>Maximum Likelihood</td> <th>  BIC:               </th> <td>   3289.73</td>\n",
       "</tr>\n",
       "<tr>\n",
       "  <th></th>                        <td></td>          <th>  No. Observations:  </th>     <td>754</td>   \n",
       "</tr>\n",
       "<tr>\n",
       "  <th>Date:</th>           <td>Sun, May 01 2022</td>  <th>  Df Residuals:      </th>     <td>754</td>   \n",
       "</tr>\n",
       "<tr>\n",
       "  <th>Time:</th>               <td>15:59:12</td>      <th>  Df Model:          </th>      <td>0</td>    \n",
       "</tr>\n",
       "</table>\n",
       "<table class=\"simpletable\">\n",
       "<caption>Volatility Model</caption>\n",
       "<tr>\n",
       "      <td></td>        <th>coef</th>     <th>std err</th>      <th>t</th>       <th>P>|t|</th>    <th>95.0% Conf. Int.</th>  \n",
       "</tr>\n",
       "<tr>\n",
       "  <th>omega</th>    <td>    3.7605</td> <td>    0.457</td> <td>    8.221</td> <td>2.013e-16</td>  <td>[  2.864,  4.657]</td> \n",
       "</tr>\n",
       "<tr>\n",
       "  <th>alpha[1]</th> <td>    0.2228</td> <td>8.580e-02</td> <td>    2.596</td> <td>9.419e-03</td> <td>[5.461e-02,  0.391]</td>\n",
       "</tr>\n",
       "</table><br/><br/>Covariance estimator: robust"
      ],
      "text/plain": [
       "<class 'statsmodels.iolib.summary.Summary'>\n",
       "\"\"\"\n",
       "                        Zero Mean - ARCH Model Results                        \n",
       "==============================================================================\n",
       "Dep. Variable:              Adj Close   R-squared:                       0.000\n",
       "Mean Model:                 Zero Mean   Adj. R-squared:                  0.001\n",
       "Vol Model:                       ARCH   Log-Likelihood:               -1638.24\n",
       "Distribution:                  Normal   AIC:                           3280.48\n",
       "Method:            Maximum Likelihood   BIC:                           3289.73\n",
       "                                        No. Observations:                  754\n",
       "Date:                Sun, May 01 2022   Df Residuals:                      754\n",
       "Time:                        15:59:12   Df Model:                            0\n",
       "                             Volatility Model                             \n",
       "==========================================================================\n",
       "                 coef    std err          t      P>|t|    95.0% Conf. Int.\n",
       "--------------------------------------------------------------------------\n",
       "omega          3.7605      0.457      8.221  2.013e-16   [  2.864,  4.657]\n",
       "alpha[1]       0.2228  8.580e-02      2.596  9.419e-03 [5.461e-02,  0.391]\n",
       "==========================================================================\n",
       "\n",
       "Covariance estimator: robust\n",
       "\"\"\""
      ]
     },
     "execution_count": 8,
     "metadata": {},
     "output_type": "execute_result"
    }
   ],
   "source": [
    "gjr_garch.summary()"
   ]
  },
  {
   "cell_type": "code",
   "execution_count": 9,
   "id": "12e44454-6747-4019-97b0-7c276a625faf",
   "metadata": {},
   "outputs": [],
   "source": [
    "forecast_gjr_garch = gjr_garch.forecast(start=split_date[0], reindex=True)"
   ]
  },
  {
   "cell_type": "code",
   "execution_count": 10,
   "id": "c794f860-061a-4c92-af4f-4cb15d940c61",
   "metadata": {},
   "outputs": [
    {
     "name": "stdout",
     "output_type": "stream",
     "text": [
      "The RMSE value of GJR-GARCH model is 0.2121\n"
     ]
    }
   ],
   "source": [
    "rmse_gjr_garch = np.sqrt(mse(realized_vol[-n:]/100,\n",
    "                        np.sqrt(forecast_gjr_garch.variance.iloc[-len(split_date):]/100)))\n",
    "print('The RMSE value of GJR-GARCH model is {:.4f}'.format(rmse_gjr_garch))"
   ]
  },
  {
   "cell_type": "code",
   "execution_count": 11,
   "id": "2d407fdf-62e7-439b-bbc1-fe2659aa8d83",
   "metadata": {},
   "outputs": [
    {
     "data": {
      "image/png": "[encoded data removed]",
      "text/plain": [
       "<Figure size 720x432 with 1 Axes>"
      ]
     },
     "metadata": {
      "needs_background": "light"
     },
     "output_type": "display_data"
    }
   ],
   "source": [
    "plt.figure(figsize=(10, 6))\n",
    "plt.plot(realized_vol / 100, label='Realized Volatility')\n",
    "plt.plot(forecast_gjr_garch.variance.iloc[-len(split_date):] /100,\n",
    "         label='Volatility Prediction GJR-GARCH')\n",
    "plt.title('Volatility Prediction with GJR-GARCH', fontsize=12)\n",
    "plt.legend()\n",
    "plt.show()"
   ]
  },
  {
   "cell_type": "code",
   "execution_count": null,
   "id": "3e9d3b01-bba5-4b1c-88fd-c089a2b83759",
   "metadata": {},
   "outputs": [],
   "source": []
  }
 ],
 "metadata": {
  "kernelspec": {
   "display_name": "Python 3 (ipykernel)",
   "language": "python",
   "name": "python3"
  },
  "language_info": {
   "codemirror_mode": {
    "name": "ipython",
    "version": 3
   },
   "file_extension": ".py",
   "mimetype": "text/x-python",
   "name": "python",
   "nbconvert_exporter": "python",
   "pygments_lexer": "ipython3",
   "version": "3.9.7"
  }
 },
 "nbformat": 4,
 "nbformat_minor": 5
}
