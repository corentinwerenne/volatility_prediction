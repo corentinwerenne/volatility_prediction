{
 "cells": [
  {
   "cell_type": "code",
   "execution_count": 2,
   "id": "dea686fe-f012-4852-88f8-bf7a37f3869e",
   "metadata": {},
   "outputs": [],
   "source": [
    "import pandas as pd\n",
    "import yfinance as yf\n",
    "import numpy as np\n",
    "import matplotlib.pyplot as plt\n",
    "\n",
    "from sklearn.metrics import mean_squared_error as mse\n",
    "from arch import arch_model\n",
    "\n",
    "#from data_handler import get_sp500_ticker_list\n",
    "from data_handler import get_adj_close\n",
    "#from data_handler import sp500_closes_to_csv"
   ]
  },
  {
   "cell_type": "markdown",
   "id": "240fd389-377b-47ce-9135-c42d1bbcc6a6",
   "metadata": {},
   "source": [
    "<span style=\"color:red\">How about trying for different time periods, intervals, indices vs individual stocks</span>."
   ]
  },
  {
   "cell_type": "code",
   "execution_count": 3,
   "id": "b031f333-61ac-4d5d-8c23-37c0352932c1",
   "metadata": {},
   "outputs": [
    {
     "name": "stdout",
     "output_type": "stream",
     "text": [
      "[*********************100%***********************]  1 of 1 completed\n"
     ]
    }
   ],
   "source": [
    "# Getting the data\n",
    "start='2018-01-01'\n",
    "end='2020-12-31'\n",
    "interval='1d'\n",
    "ticker_list = 'AAPL'\n",
    "\n",
    "df = get_adj_close(ticker_list, start, end, interval)"
   ]
  },
  {
   "cell_type": "code",
   "execution_count": 4,
   "id": "6406f9b7-ed12-4462-aa3e-e964a317200d",
   "metadata": {},
   "outputs": [
    {
     "data": {
      "text/plain": [
       "Date\n",
       "2018-01-02    41.075409\n",
       "2018-01-03    41.068253\n",
       "2018-01-04    41.259003\n",
       "2018-01-05    41.728756\n",
       "2018-01-08    41.573761\n",
       "Name: Adj Close, dtype: float64"
      ]
     },
     "execution_count": 4,
     "metadata": {},
     "output_type": "execute_result"
    }
   ],
   "source": [
    "df.head()"
   ]
  },
  {
   "cell_type": "code",
   "execution_count": 5,
   "id": "6775473a-648e-45a4-9665-b15b17daff02",
   "metadata": {},
   "outputs": [],
   "source": [
    "# Computing returns\n",
    "ret = 100 * df.pct_change()\n",
    "ret.dropna(inplace=True)"
   ]
  },
  {
   "cell_type": "code",
   "execution_count": 6,
   "id": "d7ec5346-cf71-4515-bc77-fdb0ae10c68d",
   "metadata": {},
   "outputs": [],
   "source": [
    "# Computing realized volatility\n",
    "realized_vol = ret.rolling(5).std()\n",
    "realized_vol.dropna(inplace=True)"
   ]
  },
  {
   "cell_type": "code",
   "execution_count": 7,
   "id": "c650b7eb-2d87-4b1e-ba93-9c690e602751",
   "metadata": {},
   "outputs": [
    {
     "data": {
      "text/plain": [
       "Date\n",
       "2018-01-09    0.583338\n",
       "2018-01-10    0.583953\n",
       "2018-01-11    0.595648\n",
       "2018-01-12    0.557252\n",
       "2018-01-16    0.596671\n",
       "Name: Adj Close, dtype: float64"
      ]
     },
     "execution_count": 7,
     "metadata": {},
     "output_type": "execute_result"
    }
   ],
   "source": [
    "realized_vol.head()"
   ]
  },
  {
   "cell_type": "markdown",
   "id": "2b701f6e-ad49-4f01-9cf4-a256bad7ec6d",
   "metadata": {
    "tags": []
   },
   "source": [
    "### ARCH"
   ]
  },
  {
   "cell_type": "markdown",
   "id": "f1193c7d-4de9-4e9e-84da-eca0e51e2214",
   "metadata": {},
   "source": [
    "<span style=\"color:red\">How about using other ways to sample time series for testing</span>."
   ]
  },
  {
   "cell_type": "code",
   "execution_count": 15,
   "id": "31572873-c1ac-49f4-becd-b7037d08fdda",
   "metadata": {},
   "outputs": [],
   "source": [
    "n = 252\n",
    "split_date = ret.iloc[-n:].index"
   ]
  },
  {
   "cell_type": "markdown",
   "id": "a6a07e78-89d9-4ad7-b3d1-b9ea86d5e3bb",
   "metadata": {},
   "source": [
    "<span style=\"color:red\">How about using other criterium? In the book he uses BIC</span>."
   ]
  },
  {
   "cell_type": "code",
   "execution_count": 16,
   "id": "457c88f0-27c8-4429-adbe-c823909831ef",
   "metadata": {},
   "outputs": [
    {
     "name": "stdout",
     "output_type": "stream",
     "text": [
      "3\n"
     ]
    }
   ],
   "source": [
    "aic_arch = []\n",
    "\n",
    "for p in range(1, 4): # Iterating ARCH parameter p\n",
    "    arch = arch_model(ret, mean='zero', vol='ARCH', p=p)\\\n",
    "         .fit(disp='off') # Running ARCH(p)\n",
    "    aic_arch.append(arch.aic) # Storing aic for the ARCH(p)\n",
    "    \n",
    "    if arch.aic == np.min(aic_arch): \n",
    "         best_param = p # Finding the minimum AIC score\n",
    "print(best_param)"
   ]
  },
  {
   "cell_type": "code",
   "execution_count": 17,
   "id": "de95a7cc-fcb2-4538-be41-2afa64fa1f25",
   "metadata": {},
   "outputs": [],
   "source": [
    "arch = arch_model(ret, mean='zero', vol='ARCH', p=best_param)\\\n",
    "         .fit(disp='off')"
   ]
  },
  {
   "cell_type": "code",
   "execution_count": 18,
   "id": "9ac57351-23b6-4328-b9bb-d9b545e90e50",
   "metadata": {},
   "outputs": [
    {
     "data": {
      "text/html": [
       "<table class=\"simpletable\">\n",
       "<caption>Zero Mean - ARCH Model Results</caption>\n",
       "<tr>\n",
       "  <th>Dep. Variable:</th>      <td>Adj Close</td>     <th>  R-squared:         </th>  <td>   0.000</td> \n",
       "</tr>\n",
       "<tr>\n",
       "  <th>Mean Model:</th>         <td>Zero Mean</td>     <th>  Adj. R-squared:    </th>  <td>   0.001</td> \n",
       "</tr>\n",
       "<tr>\n",
       "  <th>Vol Model:</th>            <td>ARCH</td>        <th>  Log-Likelihood:    </th> <td>  -1590.45</td>\n",
       "</tr>\n",
       "<tr>\n",
       "  <th>Distribution:</th>        <td>Normal</td>       <th>  AIC:               </th> <td>   3188.89</td>\n",
       "</tr>\n",
       "<tr>\n",
       "  <th>Method:</th>        <td>Maximum Likelihood</td> <th>  BIC:               </th> <td>   3207.39</td>\n",
       "</tr>\n",
       "<tr>\n",
       "  <th></th>                        <td></td>          <th>  No. Observations:  </th>     <td>754</td>   \n",
       "</tr>\n",
       "<tr>\n",
       "  <th>Date:</th>           <td>Sun, May 15 2022</td>  <th>  Df Residuals:      </th>     <td>754</td>   \n",
       "</tr>\n",
       "<tr>\n",
       "  <th>Time:</th>               <td>16:54:55</td>      <th>  Df Model:          </th>      <td>0</td>    \n",
       "</tr>\n",
       "</table>\n",
       "<table class=\"simpletable\">\n",
       "<caption>Volatility Model</caption>\n",
       "<tr>\n",
       "      <td></td>        <th>coef</th>     <th>std err</th>      <th>t</th>       <th>P>|t|</th>    <th>95.0% Conf. Int.</th>  \n",
       "</tr>\n",
       "<tr>\n",
       "  <th>omega</th>    <td>    2.1990</td> <td>    0.429</td> <td>    5.128</td> <td>2.923e-07</td>  <td>[  1.359,  3.039]</td> \n",
       "</tr>\n",
       "<tr>\n",
       "  <th>alpha[1]</th> <td>    0.1060</td> <td>5.178e-02</td> <td>    2.047</td> <td>4.067e-02</td> <td>[4.503e-03,  0.207]</td>\n",
       "</tr>\n",
       "<tr>\n",
       "  <th>alpha[2]</th> <td>    0.2409</td> <td>8.014e-02</td> <td>    3.006</td> <td>2.649e-03</td> <td>[8.380e-02,  0.398]</td>\n",
       "</tr>\n",
       "<tr>\n",
       "  <th>alpha[3]</th> <td>    0.2246</td> <td>9.730e-02</td> <td>    2.309</td> <td>2.097e-02</td> <td>[3.392e-02,  0.415]</td>\n",
       "</tr>\n",
       "</table><br/><br/>Covariance estimator: robust"
      ],
      "text/plain": [
       "<class 'statsmodels.iolib.summary.Summary'>\n",
       "\"\"\"\n",
       "                        Zero Mean - ARCH Model Results                        \n",
       "==============================================================================\n",
       "Dep. Variable:              Adj Close   R-squared:                       0.000\n",
       "Mean Model:                 Zero Mean   Adj. R-squared:                  0.001\n",
       "Vol Model:                       ARCH   Log-Likelihood:               -1590.45\n",
       "Distribution:                  Normal   AIC:                           3188.89\n",
       "Method:            Maximum Likelihood   BIC:                           3207.39\n",
       "                                        No. Observations:                  754\n",
       "Date:                Sun, May 15 2022   Df Residuals:                      754\n",
       "Time:                        16:54:55   Df Model:                            0\n",
       "                             Volatility Model                             \n",
       "==========================================================================\n",
       "                 coef    std err          t      P>|t|    95.0% Conf. Int.\n",
       "--------------------------------------------------------------------------\n",
       "omega          2.1990      0.429      5.128  2.923e-07   [  1.359,  3.039]\n",
       "alpha[1]       0.1060  5.178e-02      2.047  4.067e-02 [4.503e-03,  0.207]\n",
       "alpha[2]       0.2409  8.014e-02      3.006  2.649e-03 [8.380e-02,  0.398]\n",
       "alpha[3]       0.2246  9.730e-02      2.309  2.097e-02 [3.392e-02,  0.415]\n",
       "==========================================================================\n",
       "\n",
       "Covariance estimator: robust\n",
       "\"\"\""
      ]
     },
     "execution_count": 18,
     "metadata": {},
     "output_type": "execute_result"
    }
   ],
   "source": [
    "arch.summary()"
   ]
  },
  {
   "cell_type": "markdown",
   "id": "ebd4359d-2b8a-400a-a8b7-fe6a57d234ae",
   "metadata": {},
   "source": [
    "<span style=\"color:red\">How about testing on intraweek on shorter periods of time</span>."
   ]
  },
  {
   "cell_type": "code",
   "execution_count": 19,
   "id": "7e219d2d-7b97-4dc3-8cba-d94bcbbb2cd9",
   "metadata": {},
   "outputs": [],
   "source": [
    "forecast_arch = arch.forecast(start=split_date[0], reindex=True)"
   ]
  },
  {
   "cell_type": "code",
   "execution_count": 20,
   "id": "8d01e964-9ac4-4e6e-9b46-9e95aaa6028e",
   "metadata": {},
   "outputs": [
    {
     "data": {
      "text/html": [
       "<div>\n",
       "<style scoped>\n",
       "    .dataframe tbody tr th:only-of-type {\n",
       "        vertical-align: middle;\n",
       "    }\n",
       "\n",
       "    .dataframe tbody tr th {\n",
       "        vertical-align: top;\n",
       "    }\n",
       "\n",
       "    .dataframe thead th {\n",
       "        text-align: right;\n",
       "    }\n",
       "</style>\n",
       "<table border=\"1\" class=\"dataframe\">\n",
       "  <thead>\n",
       "    <tr style=\"text-align: right;\">\n",
       "      <th></th>\n",
       "      <th>h.1</th>\n",
       "    </tr>\n",
       "    <tr>\n",
       "      <th>Date</th>\n",
       "      <th></th>\n",
       "    </tr>\n",
       "  </thead>\n",
       "  <tbody>\n",
       "    <tr>\n",
       "      <th>2018-01-03</th>\n",
       "      <td>NaN</td>\n",
       "    </tr>\n",
       "    <tr>\n",
       "      <th>2018-01-04</th>\n",
       "      <td>NaN</td>\n",
       "    </tr>\n",
       "    <tr>\n",
       "      <th>2018-01-05</th>\n",
       "      <td>NaN</td>\n",
       "    </tr>\n",
       "    <tr>\n",
       "      <th>2018-01-08</th>\n",
       "      <td>NaN</td>\n",
       "    </tr>\n",
       "    <tr>\n",
       "      <th>2018-01-09</th>\n",
       "      <td>NaN</td>\n",
       "    </tr>\n",
       "    <tr>\n",
       "      <th>...</th>\n",
       "      <td>...</td>\n",
       "    </tr>\n",
       "    <tr>\n",
       "      <th>2020-12-23</th>\n",
       "      <td>4.547326</td>\n",
       "    </tr>\n",
       "    <tr>\n",
       "      <th>2020-12-24</th>\n",
       "      <td>4.199302</td>\n",
       "    </tr>\n",
       "    <tr>\n",
       "      <th>2020-12-28</th>\n",
       "      <td>3.807514</td>\n",
       "    </tr>\n",
       "    <tr>\n",
       "      <th>2020-12-29</th>\n",
       "      <td>5.601727</td>\n",
       "    </tr>\n",
       "    <tr>\n",
       "      <th>2020-12-30</th>\n",
       "      <td>5.576569</td>\n",
       "    </tr>\n",
       "  </tbody>\n",
       "</table>\n",
       "<p>754 rows × 1 columns</p>\n",
       "</div>"
      ],
      "text/plain": [
       "                 h.1\n",
       "Date                \n",
       "2018-01-03       NaN\n",
       "2018-01-04       NaN\n",
       "2018-01-05       NaN\n",
       "2018-01-08       NaN\n",
       "2018-01-09       NaN\n",
       "...              ...\n",
       "2020-12-23  4.547326\n",
       "2020-12-24  4.199302\n",
       "2020-12-28  3.807514\n",
       "2020-12-29  5.601727\n",
       "2020-12-30  5.576569\n",
       "\n",
       "[754 rows x 1 columns]"
      ]
     },
     "execution_count": 20,
     "metadata": {},
     "output_type": "execute_result"
    }
   ],
   "source": [
    "forecast_arch.residual_variance"
   ]
  },
  {
   "cell_type": "code",
   "execution_count": 22,
   "id": "49b10f6d-dbd5-41e1-bf09-71cc81d502e1",
   "metadata": {},
   "outputs": [
    {
     "data": {
      "text/plain": [
       "Date\n",
       "2020-01-02    0.983001\n",
       "2020-01-03    1.192815\n",
       "2020-01-06    1.153107\n",
       "2020-01-07    1.266977\n",
       "2020-01-08    1.368339\n",
       "                ...   \n",
       "2020-12-23    1.722873\n",
       "2020-12-24    1.725330\n",
       "2020-12-28    1.698713\n",
       "2020-12-29    2.145510\n",
       "2020-12-30    1.996467\n",
       "Name: Adj Close, Length: 252, dtype: float64"
      ]
     },
     "execution_count": 22,
     "metadata": {},
     "output_type": "execute_result"
    }
   ],
   "source": [
    "realized_vol[-n:]"
   ]
  },
  {
   "cell_type": "code",
   "execution_count": 23,
   "id": "cdbb20c3-b70c-4a77-875b-3aa91b0d8134",
   "metadata": {},
   "outputs": [
    {
     "data": {
      "text/html": [
       "<div>\n",
       "<style scoped>\n",
       "    .dataframe tbody tr th:only-of-type {\n",
       "        vertical-align: middle;\n",
       "    }\n",
       "\n",
       "    .dataframe tbody tr th {\n",
       "        vertical-align: top;\n",
       "    }\n",
       "\n",
       "    .dataframe thead th {\n",
       "        text-align: right;\n",
       "    }\n",
       "</style>\n",
       "<table border=\"1\" class=\"dataframe\">\n",
       "  <thead>\n",
       "    <tr style=\"text-align: right;\">\n",
       "      <th></th>\n",
       "      <th>h.1</th>\n",
       "    </tr>\n",
       "    <tr>\n",
       "      <th>Date</th>\n",
       "      <th></th>\n",
       "    </tr>\n",
       "  </thead>\n",
       "  <tbody>\n",
       "    <tr>\n",
       "      <th>2020-01-02</th>\n",
       "      <td>2.958548</td>\n",
       "    </tr>\n",
       "    <tr>\n",
       "      <th>2020-01-03</th>\n",
       "      <td>3.673063</td>\n",
       "    </tr>\n",
       "    <tr>\n",
       "      <th>2020-01-06</th>\n",
       "      <td>3.663387</td>\n",
       "    </tr>\n",
       "    <tr>\n",
       "      <th>2020-01-07</th>\n",
       "      <td>2.587726</td>\n",
       "    </tr>\n",
       "    <tr>\n",
       "      <th>2020-01-08</th>\n",
       "      <td>2.669197</td>\n",
       "    </tr>\n",
       "    <tr>\n",
       "      <th>...</th>\n",
       "      <td>...</td>\n",
       "    </tr>\n",
       "    <tr>\n",
       "      <th>2020-12-23</th>\n",
       "      <td>4.547326</td>\n",
       "    </tr>\n",
       "    <tr>\n",
       "      <th>2020-12-24</th>\n",
       "      <td>4.199302</td>\n",
       "    </tr>\n",
       "    <tr>\n",
       "      <th>2020-12-28</th>\n",
       "      <td>3.807514</td>\n",
       "    </tr>\n",
       "    <tr>\n",
       "      <th>2020-12-29</th>\n",
       "      <td>5.601727</td>\n",
       "    </tr>\n",
       "    <tr>\n",
       "      <th>2020-12-30</th>\n",
       "      <td>5.576569</td>\n",
       "    </tr>\n",
       "  </tbody>\n",
       "</table>\n",
       "<p>252 rows × 1 columns</p>\n",
       "</div>"
      ],
      "text/plain": [
       "                 h.1\n",
       "Date                \n",
       "2020-01-02  2.958548\n",
       "2020-01-03  3.673063\n",
       "2020-01-06  3.663387\n",
       "2020-01-07  2.587726\n",
       "2020-01-08  2.669197\n",
       "...              ...\n",
       "2020-12-23  4.547326\n",
       "2020-12-24  4.199302\n",
       "2020-12-28  3.807514\n",
       "2020-12-29  5.601727\n",
       "2020-12-30  5.576569\n",
       "\n",
       "[252 rows x 1 columns]"
      ]
     },
     "execution_count": 23,
     "metadata": {},
     "output_type": "execute_result"
    }
   ],
   "source": [
    "forecast_arch.variance.iloc[-len(split_date):]"
   ]
  },
  {
   "cell_type": "markdown",
   "id": "1701ed25-a4b2-412d-84fc-4b23b882cba9",
   "metadata": {},
   "source": [
    "<span style=\"color:red\">How about trying different metrics?</span>."
   ]
  },
  {
   "cell_type": "code",
   "execution_count": 21,
   "id": "4da54dee-3f26-4fa7-a7fd-3e53d1e557f4",
   "metadata": {},
   "outputs": [
    {
     "name": "stdout",
     "output_type": "stream",
     "text": [
      "The RMSE value of ARCH model is 0.2389\n"
     ]
    }
   ],
   "source": [
    "rmse_arch = np.sqrt(mse(realized_vol[-n:]/100,\n",
    "                        np.sqrt(forecast_arch.variance.iloc[-len(split_date):]/100)))\n",
    "print('The RMSE value of ARCH model is {:.4f}'.format(rmse_arch))"
   ]
  },
  {
   "cell_type": "markdown",
   "id": "29030fce-0335-452e-be6e-d88ba244e334",
   "metadata": {},
   "source": [
    "<span style=\"color:orange\">Is there a mistake here? Why is predicted so crazy?</span>."
   ]
  },
  {
   "cell_type": "code",
   "execution_count": 53,
   "id": "93197b91-a50c-4600-af71-56c046fd5f2c",
   "metadata": {},
   "outputs": [
    {
     "data": {
      "image/png": "[encoded data removed]",
      "text/plain": [
       "<Figure size 720x432 with 1 Axes>"
      ]
     },
     "metadata": {
      "needs_background": "light"
     },
     "output_type": "display_data"
    }
   ],
   "source": [
    "plt.figure(figsize=(10, 6))\n",
    "plt.plot(realized_vol / 100, label='Realized Volatility')\n",
    "plt.plot(forecast_arch.variance.iloc[-len(split_date):] /100,\n",
    "         label='Volatility Prediction -ARCH')\n",
    "plt.title('Volatility Prediction with ARCH', fontsize=12)\n",
    "plt.legend()\n",
    "plt.show()"
   ]
  }
 ],
 "metadata": {
  "kernelspec": {
   "display_name": "Python 3 (ipykernel)",
   "language": "python",
   "name": "python3"
  },
  "language_info": {
   "codemirror_mode": {
    "name": "ipython",
    "version": 3
   },
   "file_extension": ".py",
   "mimetype": "text/x-python",
   "name": "python",
   "nbconvert_exporter": "python",
   "pygments_lexer": "ipython3",
   "version": "3.9.7"
  }
 },
 "nbformat": 4,
 "nbformat_minor": 5
}
